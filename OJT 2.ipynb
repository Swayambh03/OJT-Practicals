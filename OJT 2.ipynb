{
 "cells": [
  {
   "cell_type": "code",
   "execution_count": 4,
   "id": "73be3c53",
   "metadata": {},
   "outputs": [
    {
     "name": "stdout",
     "output_type": "stream",
     "text": [
      "Matrix : M\n",
      "[[3 6 6 0 9]\n",
      " [8 4 7 0 0]\n",
      " [7 1 5 7 0]\n",
      " [1 4 6 2 9]\n",
      " [9 9 9 1 2]]\n",
      "\n",
      "Row Echelon Form of M:\n",
      "[[         3          3          3          3          3]\n",
      " [       -20        -20        -20        -20        -20]\n",
      " [      -416       -416       -416       -416       -416]\n",
      " [      9587       9587       9587       9587       9587]\n",
      " [1511079525 1511079525 1511079525 1511079525 1511079525]]\n"
     ]
    }
   ],
   "source": [
    "import numpy as np\n",
    "\n",
    "np.random.seed(5)\n",
    "\n",
    "M = np.random.randint(0, 10, size=(5, 5))\n",
    "print(\"Matrix : M\")\n",
    "print(M)\n",
    "print()\n",
    "\n",
    "n_rows, n_cols = M.shape\n",
    "present_row = 0\n",
    "for col in range(n_cols):\n",
    "    nonzero_row = present_row\n",
    "    while nonzero_row < n_rows and M[nonzero_row, col] == 0:\n",
    "        nonzero_row += 1\n",
    "    if nonzero_row < n_rows:\n",
    "        M[present_row], M[nonzero_row] = M[nonzero_row].copy(), M[present_row].copy()\n",
    "        M[present_row] = M[present_row, col]\n",
    "        for i in range(present_row + 1, n_rows):\n",
    "            M[i] -= M[i, col] * M[present_row]\n",
    "        present_row += 1\n",
    "print(\"Row Echelon Form of M:\")\n",
    "print(M)"
   ]
  },
  {
   "cell_type": "code",
   "execution_count": null,
   "id": "20d79e89",
   "metadata": {},
   "outputs": [],
   "source": []
  }
 ],
 "metadata": {
  "kernelspec": {
   "display_name": "Python 3 (ipykernel)",
   "language": "python",
   "name": "python3"
  },
  "language_info": {
   "codemirror_mode": {
    "name": "ipython",
    "version": 3
   },
   "file_extension": ".py",
   "mimetype": "text/x-python",
   "name": "python",
   "nbconvert_exporter": "python",
   "pygments_lexer": "ipython3",
   "version": "3.11.4"
  }
 },
 "nbformat": 4,
 "nbformat_minor": 5
}
